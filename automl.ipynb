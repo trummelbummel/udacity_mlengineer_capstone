{
  "cells": [
    {
      "cell_type": "markdown",
      "source": [
        "# Automated ML\n",
        "\n",
        "TODO: Import Dependencies. In the cell below, import all the dependencies that you will need to complete the project."
      ],
      "metadata": {}
    },
    {
      "cell_type": "code",
      "source": [
        "from azureml.core import Workspace, Experiment\n",
        "\n",
        "from azureml.core.compute import ComputeTarget, AmlCompute\n",
        "from azureml.train.automl import AutoMLConfig\n",
        "from azureml.widgets import RunDetails\n",
        "from azureml.core.compute_target import ComputeTargetException\n",
        "from azureml.core import Workspace, Dataset \n",
        "\n",
        "import joblib\n"
      ],
      "outputs": [],
      "execution_count": 33,
      "metadata": {
        "gather": {
          "logged": 1658313938449
        },
        "jupyter": {
          "outputs_hidden": false,
          "source_hidden": false
        },
        "nteract": {
          "transient": {
            "deleting": false
          }
        }
      }
    },
    {
      "cell_type": "markdown",
      "source": [
        "## Dataset\n",
        "\n",
        "### Overview\n",
        "TODO: In this markdown cell, give an overview of the dataset you are using. Also mention the task you will be performing.\n",
        "\n",
        "\n",
        "TODO: Get data. In the cell below, write code to access the data you will be using in this project. Remember that the dataset needs to be external."
      ],
      "metadata": {}
    },
    {
      "cell_type": "code",
      "source": [
        "label = 'vfc_level2_3_name'"
      ],
      "outputs": [],
      "execution_count": 34,
      "metadata": {
        "gather": {
          "logged": 1658313939507
        },
        "jupyter": {
          "outputs_hidden": false,
          "source_hidden": false
        },
        "nteract": {
          "transient": {
            "deleting": false
          }
        }
      }
    },
    {
      "cell_type": "code",
      "source": [
        "# azureml-core of version 1.0.72 or higher is required\n",
        "# azureml-dataprep[pandas] of version 1.1.34 or higher is required\n",
        "\n",
        "subscription_id = 'b968fb36-f06a-4c76-a15f-afab68ae7667'\n",
        "resource_group = 'aml-quickstarts-201550'\n",
        "workspace_name = 'quick-starts-ws-201550'\n",
        "\n",
        "workspace = Workspace(subscription_id, resource_group, workspace_name)\n",
        "\n"
      ],
      "outputs": [],
      "execution_count": 35,
      "metadata": {
        "jupyter": {
          "source_hidden": false,
          "outputs_hidden": false
        },
        "nteract": {
          "transient": {
            "deleting": false
          }
        },
        "gather": {
          "logged": 1658313940052
        }
      }
    },
    {
      "cell_type": "code",
      "source": [
        "# azureml-core of version 1.0.72 or higher is required\n",
        "# azureml-dataprep[pandas] of version 1.1.34 or higher is required.\n",
        "\n",
        "validation_data = Dataset.get_by_name(workspace, name='test_project').to_pandas_dataframe()\n",
        "train_data = Dataset.get_by_name(workspace, name='train_project').to_pandas_dataframe()\n"
      ],
      "outputs": [],
      "execution_count": 36,
      "metadata": {
        "jupyter": {
          "source_hidden": false,
          "outputs_hidden": false
        },
        "nteract": {
          "transient": {
            "deleting": false
          }
        },
        "gather": {
          "logged": 1658313936256
        }
      }
    },
    {
      "cell_type": "markdown",
      "source": [],
      "metadata": {
        "nteract": {
          "transient": {
            "deleting": false
          }
        }
      }
    },
    {
      "cell_type": "code",
      "source": [
        "subset_mvp = ['All-round view : View/restricted panoramic view', 'Android Auto : Malfunction', \n",
        "'Apps (A4A) : Not user-friendly', 'Comfort Access : Not user-friendly', 'Connected App : Malfunction', \n",
        "'Convertible top / hardtop, open / close : Malfunction', 'Cushioning / damping vehicle : Malfunction',\n",
        " 'Display Key, use : Malfunction', 'Driver profile : Not user-friendly', 'Drivetrain : Customer request: function',\n",
        "  'Driving experience, configuration : Not user-friendly', 'Electric Range : Range, not OK', \n",
        "  'Exterior lighting : Light intensity not OK', 'Headrest, adjust : Malfunction', 'High voltage battery : Malfunction', \n",
        "  'Hood : Damage', 'Instrument cluster : Not user-friendly', 'Lane departure warning : Not user-friendly', \n",
        "  'Manage / connect mobile device (WiFi) : Not user-friendly', 'Navigation : Not user-friendly', \n",
        "  'Operate gear selector switch : Not user-friendly', 'Panorama glass roof : Damage', 'Parking Assistant : Not user-friendly',\n",
        "   'RSC tire : Not user-friendly', 'Seat belts : Not (sufficiently) comfortable', 'Seat belts : Not user-friendly',\n",
        "    'Seating, ventilate / heat : Not user-friendly', 'Side window, open / close : Malfunction', \n",
        "    'Steering wheel : Noise', 'Steering wheel : Not user-friendly', 'Touch screen, operation : Dirty contamination', \n",
        "    'Vehicle, climatization : Condensation', 'Voice control / speech recognition : Malfunction', \n",
        "    'Voice control / speech recognition : Not user-friendly', 'Wheels / tires : Damage', 'good',\n",
        "     'speech input / speech recognition : Not user-friendly']"
      ],
      "outputs": [],
      "execution_count": null,
      "metadata": {
        "jupyter": {
          "source_hidden": false,
          "outputs_hidden": false
        },
        "nteract": {
          "transient": {
            "deleting": false
          }
        },
        "gather": {
          "logged": 1658313936357
        }
      }
    },
    {
      "cell_type": "code",
      "source": [
        "import pandas as pd\n",
        "goodones = [x for x in pd.unique(train_data[label].dropna()) if ('like' in x.lower()) or ('appeals' in x.lower()) and x != 'Ergonomics do not appeal'] + [x for x in pd.unique(validation_data[label].dropna()) if ('like' in x.lower()) or ('appeals' in x.lower()) and x != 'Ergonomics do not appeal' ] \n",
        "validation_data = validation_data[validation_data[label].isin(subset_mvp)].set_index('Column1')\n",
        "featurecols = validation_data.columns.tolist()\n",
        "featurecols.remove(label)\n",
        "X_val = validation_data[featurecols]\n",
        "y_val = validation_data[label].apply(lambda x : 'good' if x in goodones else x)\n",
        "\n",
        "train_data = train_data[validation_data[label].isin(subset_mvp)].set_index('Column1')\n",
        "X_train = train_data[featurecols]\n",
        "y_train = train_data[label].apply(lambda x : 'good' if x in goodones else x)"
      ],
      "outputs": [],
      "execution_count": null,
      "metadata": {
        "jupyter": {
          "source_hidden": false,
          "outputs_hidden": false
        },
        "nteract": {
          "transient": {
            "deleting": false
          }
        },
        "gather": {
          "logged": 1658313936379
        }
      }
    },
    {
      "cell_type": "markdown",
      "source": [
        "## AutoML Configuration\n",
        "\n",
        "TODO: Explain why you chose the automl settings and cofiguration you used below."
      ],
      "metadata": {}
    },
    {
      "cell_type": "code",
      "source": [
        "automl_config = AutoMLConfig(\n",
        "    experiment_timeout_hours=1.0,\n",
        "    task= 'classification',\n",
        "    primary_metric= 'average_precision_score_weighted',\n",
        "    enable_early_stopping= True,\n",
        "    featurization='off',\n",
        "    X =X_train,\n",
        "    y = y_train, \n",
        "    X_valid = X_val, \n",
        "    y_valid = y_val,\n",
        "    enable_voting_ensemble=False,\n",
        "    enable_stack_ensemble=False,\n",
        "    allowed_models=['BernoulliNaiveBayes', 'KNN', 'RandomForest', 'SVM', 'XGBoostClassifier'],\n",
        "    y_min= 100,\n",
        "    y_max= 1200,)"
      ],
      "outputs": [],
      "execution_count": null,
      "metadata": {
        "gather": {
          "logged": 1658312671358
        },
        "jupyter": {
          "outputs_hidden": false,
          "source_hidden": false
        },
        "nteract": {
          "transient": {
            "deleting": false
          }
        }
      }
    },
    {
      "cell_type": "code",
      "source": [
        "# Choose a name for your CPU cluster\n",
        "cluster_name = \"theresa\"\n",
        "\n",
        "# Verify that cluster does not exist already\n",
        "try:\n",
        "    cpu_cluster = ComputeTarget(workspace=workspace, name=cluster_name)\n",
        "    print('Found existing cluster, use it.')\n",
        "except ComputeTargetException:\n",
        "    # To use a different region for the compute, add a location='<region>' parameter\n",
        "    compute_config = AmlCompute.provisioning_configuration(vm_size='STANDARD_D2_V2',\n",
        "                                                           max_nodes=4)\n",
        "    cpu_cluster = ComputeTarget.create(workspace, cluster_name, compute_config)\n",
        "\n",
        "cpu_cluster.wait_for_completion(show_output=True)\n",
        "\n"
      ],
      "outputs": [],
      "execution_count": null,
      "metadata": {
        "jupyter": {
          "source_hidden": false,
          "outputs_hidden": false
        },
        "nteract": {
          "transient": {
            "deleting": false
          }
        },
        "gather": {
          "logged": 1658312671376
        }
      }
    },
    {
      "cell_type": "code",
      "source": [
        "# TODO: Submit your experiment\n",
        "# choose a name for experiment\n",
        "experiment_name = 'capstone_automl'\n",
        "\n",
        "experiment=Experiment(workspace, experiment_name)\n",
        "\n",
        "run = experiment.submit(automl_config, show_output=True)"
      ],
      "outputs": [],
      "execution_count": null,
      "metadata": {
        "gather": {
          "logged": 1658312671395
        },
        "jupyter": {
          "outputs_hidden": false,
          "source_hidden": false
        },
        "nteract": {
          "transient": {
            "deleting": false
          }
        }
      }
    },
    {
      "cell_type": "markdown",
      "source": [
        "## Run Details\n",
        "\n",
        "OPTIONAL: Write about the different models trained and their performance. Why do you think some models did better than others?\n",
        "\n",
        "TODO: In the cell below, use the `RunDetails` widget to show the different experiments."
      ],
      "metadata": {}
    },
    {
      "cell_type": "code",
      "source": [
        "RunDetails(run).show()"
      ],
      "outputs": [],
      "execution_count": null,
      "metadata": {
        "gather": {
          "logged": 1658301772556
        },
        "jupyter": {
          "outputs_hidden": false,
          "source_hidden": false
        },
        "nteract": {
          "transient": {
            "deleting": false
          }
        }
      }
    },
    {
      "cell_type": "markdown",
      "source": [
        "## Best Model\n",
        "\n",
        "TODO: In the cell below, get the best model from the automl experiments and display all the properties of the model.\n",
        "\n"
      ],
      "metadata": {}
    },
    {
      "cell_type": "code",
      "source": [
        "best_run, best_model = run.get_output()\n"
      ],
      "outputs": [],
      "execution_count": null,
      "metadata": {
        "gather": {
          "logged": 1658131294101
        },
        "jupyter": {
          "outputs_hidden": false,
          "source_hidden": false
        },
        "nteract": {
          "transient": {
            "deleting": false
          }
        }
      }
    },
    {
      "cell_type": "code",
      "source": [
        "from azureml.core.model import Model\n",
        "\n",
        "\n",
        "best_run = hyperdriverun.get_best_run_by_primary_metric()\n",
        "\n",
        "model = best_run.register_model(model_name='automl_randomforest', \n",
        "                           model_path='outputs/model/automl_randomforest.pkl',\n",
        "                           model_framework=Model.Framework.SCIKITLEARN,\n",
        "                           model_framework_version='0.19.1')\n",
        "model.download(target_dir='.', exist_ok=True, exists_ok=None)"
      ],
      "outputs": [],
      "execution_count": null,
      "metadata": {
        "gather": {
          "logged": 1658131294118
        },
        "jupyter": {
          "outputs_hidden": false,
          "source_hidden": false
        },
        "nteract": {
          "transient": {
            "deleting": false
          }
        }
      }
    },
    {
      "cell_type": "markdown",
      "source": [
        "## Model Deployment\n",
        "\n",
        "Remember you have to deploy only one of the two models you trained but you still need to register both the models. Perform the steps in the rest of this notebook only if you wish to deploy this model.\n",
        "\n",
        "TODO: In the cell below, register the model, create an inference config and deploy the model as a web service."
      ],
      "metadata": {}
    },
    {
      "cell_type": "code",
      "source": [],
      "outputs": [],
      "execution_count": null,
      "metadata": {
        "gather": {
          "logged": 1598431435189
        },
        "jupyter": {
          "outputs_hidden": false,
          "source_hidden": false
        },
        "nteract": {
          "transient": {
            "deleting": false
          }
        }
      }
    },
    {
      "cell_type": "markdown",
      "source": [
        "TODO: In the cell below, send a request to the web service you deployed to test it."
      ],
      "metadata": {
        "collapsed": true,
        "gather": {
          "logged": 1598431657736
        },
        "jupyter": {
          "outputs_hidden": false,
          "source_hidden": false
        },
        "nteract": {
          "transient": {
            "deleting": false
          }
        }
      }
    },
    {
      "cell_type": "code",
      "source": [],
      "outputs": [],
      "execution_count": null,
      "metadata": {
        "gather": {
          "logged": 1598432707604
        },
        "jupyter": {
          "outputs_hidden": false,
          "source_hidden": false
        },
        "nteract": {
          "transient": {
            "deleting": false
          }
        }
      }
    },
    {
      "cell_type": "markdown",
      "source": [
        "TODO: In the cell below, print the logs of the web service and delete the service"
      ],
      "metadata": {
        "collapsed": true,
        "gather": {
          "logged": 1598432765711
        },
        "jupyter": {
          "outputs_hidden": false,
          "source_hidden": false
        },
        "nteract": {
          "transient": {
            "deleting": false
          }
        }
      }
    },
    {
      "cell_type": "code",
      "source": [],
      "outputs": [],
      "execution_count": null,
      "metadata": {
        "jupyter": {
          "outputs_hidden": false,
          "source_hidden": false
        },
        "nteract": {
          "transient": {
            "deleting": false
          }
        }
      }
    },
    {
      "cell_type": "markdown",
      "source": [
        "**Submission Checklist**\n",
        "- I have registered the model.\n",
        "- I have deployed the model with the best accuracy as a webservice.\n",
        "- I have tested the webservice by sending a request to the model endpoint.\n",
        "- I have deleted the webservice and shutdown all the computes that I have used.\n",
        "- I have taken a screenshot showing the model endpoint as active.\n",
        "- The project includes a file containing the environment details.\n"
      ],
      "metadata": {}
    },
    {
      "cell_type": "markdown",
      "source": [],
      "metadata": {}
    }
  ],
  "metadata": {
    "kernel_info": {
      "name": "python3"
    },
    "kernelspec": {
      "name": "python3",
      "language": "python",
      "display_name": "Python 3 (ipykernel)"
    },
    "language_info": {
      "name": "python",
      "version": "3.8.5",
      "mimetype": "text/x-python",
      "codemirror_mode": {
        "name": "ipython",
        "version": 3
      },
      "pygments_lexer": "ipython3",
      "nbconvert_exporter": "python",
      "file_extension": ".py"
    },
    "nteract": {
      "version": "nteract-front-end@1.0.0"
    },
    "microsoft": {
      "host": {
        "AzureML": {
          "notebookHasBeenCompleted": true
        }
      }
    }
  },
  "nbformat": 4,
  "nbformat_minor": 2
}